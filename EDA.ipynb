{
 "cells": [
  {
   "cell_type": "code",
   "execution_count": 1,
   "id": "4d70bd27-5650-4666-852e-081231d7786e",
   "metadata": {},
   "outputs": [],
   "source": [
    "import pandas as pd\n",
    "import seaborn as sns"
   ]
  },
  {
   "cell_type": "code",
   "execution_count": 2,
   "id": "d5529f6a-2928-4620-82e1-c60452d6fd58",
   "metadata": {},
   "outputs": [
    {
     "data": {
      "text/html": [
       "<div>\n",
       "<style scoped>\n",
       "    .dataframe tbody tr th:only-of-type {\n",
       "        vertical-align: middle;\n",
       "    }\n",
       "\n",
       "    .dataframe tbody tr th {\n",
       "        vertical-align: top;\n",
       "    }\n",
       "\n",
       "    .dataframe thead th {\n",
       "        text-align: right;\n",
       "    }\n",
       "</style>\n",
       "<table border=\"1\" class=\"dataframe\">\n",
       "  <thead>\n",
       "    <tr style=\"text-align: right;\">\n",
       "      <th></th>\n",
       "      <th>vid_id</th>\n",
       "      <th>channelTitle</th>\n",
       "      <th>title</th>\n",
       "      <th>description</th>\n",
       "      <th>tags</th>\n",
       "      <th>publishedAt</th>\n",
       "      <th>viewCount</th>\n",
       "      <th>likeCount</th>\n",
       "      <th>favouriteCount</th>\n",
       "      <th>commentCount</th>\n",
       "      <th>duration</th>\n",
       "      <th>definition</th>\n",
       "      <th>caption</th>\n",
       "    </tr>\n",
       "  </thead>\n",
       "  <tbody>\n",
       "    <tr>\n",
       "      <th>0</th>\n",
       "      <td>H44SorHinhc</td>\n",
       "      <td>Python Engineer</td>\n",
       "      <td>How to hide user input in Python</td>\n",
       "      <td>How to hide user input in Python with the getp...</td>\n",
       "      <td>['Python']</td>\n",
       "      <td>2022-08-25T17:17:45Z</td>\n",
       "      <td>26891</td>\n",
       "      <td>2469</td>\n",
       "      <td>NaN</td>\n",
       "      <td>28</td>\n",
       "      <td>PT28S</td>\n",
       "      <td>hd</td>\n",
       "      <td>False</td>\n",
       "    </tr>\n",
       "    <tr>\n",
       "      <th>1</th>\n",
       "      <td>hrTKYxzw1iA</td>\n",
       "      <td>Python Engineer</td>\n",
       "      <td>Do you know the bisect module in Python?</td>\n",
       "      <td>Python Tip to insert items at the correct posi...</td>\n",
       "      <td>['Python']</td>\n",
       "      <td>2022-08-17T14:00:23Z</td>\n",
       "      <td>43408</td>\n",
       "      <td>3414</td>\n",
       "      <td>NaN</td>\n",
       "      <td>96</td>\n",
       "      <td>PT39S</td>\n",
       "      <td>hd</td>\n",
       "      <td>False</td>\n",
       "    </tr>\n",
       "    <tr>\n",
       "      <th>2</th>\n",
       "      <td>eV-4j9ila-I</td>\n",
       "      <td>Python Engineer</td>\n",
       "      <td>How to Double Your Savings with Python</td>\n",
       "      <td>Learn how to save money and double your saving...</td>\n",
       "      <td>['Python']</td>\n",
       "      <td>2022-08-14T12:00:19Z</td>\n",
       "      <td>19597</td>\n",
       "      <td>773</td>\n",
       "      <td>NaN</td>\n",
       "      <td>55</td>\n",
       "      <td>PT8M58S</td>\n",
       "      <td>hd</td>\n",
       "      <td>False</td>\n",
       "    </tr>\n",
       "    <tr>\n",
       "      <th>3</th>\n",
       "      <td>i9TlSFrsh4Q</td>\n",
       "      <td>Python Engineer</td>\n",
       "      <td>Find your next Python or ML job with my new jo...</td>\n",
       "      <td>Job board: https://pythonengineer.pallet.com\\n...</td>\n",
       "      <td>['Python']</td>\n",
       "      <td>2022-08-11T15:31:14Z</td>\n",
       "      <td>7103</td>\n",
       "      <td>446</td>\n",
       "      <td>NaN</td>\n",
       "      <td>24</td>\n",
       "      <td>PT1M17S</td>\n",
       "      <td>hd</td>\n",
       "      <td>False</td>\n",
       "    </tr>\n",
       "    <tr>\n",
       "      <th>4</th>\n",
       "      <td>5LLfWJZQcqU</td>\n",
       "      <td>Python Engineer</td>\n",
       "      <td>Why Python has no REAL private methods! #shorts</td>\n",
       "      <td>Learn why Python has no real private methods!\\...</td>\n",
       "      <td>['Python']</td>\n",
       "      <td>2022-08-03T15:00:04Z</td>\n",
       "      <td>70126</td>\n",
       "      <td>3951</td>\n",
       "      <td>NaN</td>\n",
       "      <td>84</td>\n",
       "      <td>PT39S</td>\n",
       "      <td>hd</td>\n",
       "      <td>False</td>\n",
       "    </tr>\n",
       "  </tbody>\n",
       "</table>\n",
       "</div>"
      ],
      "text/plain": [
       "        vid_id     channelTitle  \\\n",
       "0  H44SorHinhc  Python Engineer   \n",
       "1  hrTKYxzw1iA  Python Engineer   \n",
       "2  eV-4j9ila-I  Python Engineer   \n",
       "3  i9TlSFrsh4Q  Python Engineer   \n",
       "4  5LLfWJZQcqU  Python Engineer   \n",
       "\n",
       "                                               title  \\\n",
       "0                   How to hide user input in Python   \n",
       "1           Do you know the bisect module in Python?   \n",
       "2             How to Double Your Savings with Python   \n",
       "3  Find your next Python or ML job with my new jo...   \n",
       "4    Why Python has no REAL private methods! #shorts   \n",
       "\n",
       "                                         description        tags  \\\n",
       "0  How to hide user input in Python with the getp...  ['Python']   \n",
       "1  Python Tip to insert items at the correct posi...  ['Python']   \n",
       "2  Learn how to save money and double your saving...  ['Python']   \n",
       "3  Job board: https://pythonengineer.pallet.com\\n...  ['Python']   \n",
       "4  Learn why Python has no real private methods!\\...  ['Python']   \n",
       "\n",
       "            publishedAt  viewCount  likeCount  favouriteCount  commentCount  \\\n",
       "0  2022-08-25T17:17:45Z      26891       2469             NaN            28   \n",
       "1  2022-08-17T14:00:23Z      43408       3414             NaN            96   \n",
       "2  2022-08-14T12:00:19Z      19597        773             NaN            55   \n",
       "3  2022-08-11T15:31:14Z       7103        446             NaN            24   \n",
       "4  2022-08-03T15:00:04Z      70126       3951             NaN            84   \n",
       "\n",
       "  duration definition  caption  \n",
       "0    PT28S         hd    False  \n",
       "1    PT39S         hd    False  \n",
       "2  PT8M58S         hd    False  \n",
       "3  PT1M17S         hd    False  \n",
       "4    PT39S         hd    False  "
      ]
     },
     "execution_count": 2,
     "metadata": {},
     "output_type": "execute_result"
    }
   ],
   "source": [
    "# import from csv file\n",
    "vid_df = pd.read_csv(\"vid_df.csv\")\n",
    "vid_df.head()"
   ]
  },
  {
   "cell_type": "markdown",
   "id": "9d6bd7b1-b4e0-4ee6-a47c-3479c28e525c",
   "metadata": {},
   "source": [
    "## Data pre-processing"
   ]
  },
  {
   "cell_type": "code",
   "execution_count": 20,
   "id": "651d576d-5dac-42a7-b9b4-f80f06cb2403",
   "metadata": {},
   "outputs": [
    {
     "data": {
      "text/plain": [
       "vid_id              0\n",
       "channelTitle        0\n",
       "title               0\n",
       "description         0\n",
       "tags                6\n",
       "publishedAt         0\n",
       "viewCount           0\n",
       "likeCount           0\n",
       "favouriteCount    177\n",
       "commentCount        0\n",
       "duration            0\n",
       "definition          0\n",
       "caption             0\n",
       "dtype: int64"
      ]
     },
     "execution_count": 20,
     "metadata": {},
     "output_type": "execute_result"
    }
   ],
   "source": [
    "vid_df.isnull().sum()"
   ]
  },
  {
   "cell_type": "code",
   "execution_count": 21,
   "id": "c322d7de-7463-44ce-9587-4f0348928d71",
   "metadata": {},
   "outputs": [
    {
     "data": {
      "text/plain": [
       "vid_id            object\n",
       "channelTitle      object\n",
       "title             object\n",
       "description       object\n",
       "tags              object\n",
       "publishedAt       object\n",
       "viewCount         object\n",
       "likeCount         object\n",
       "favouriteCount    object\n",
       "commentCount      object\n",
       "duration          object\n",
       "definition        object\n",
       "caption           object\n",
       "dtype: object"
      ]
     },
     "execution_count": 21,
     "metadata": {},
     "output_type": "execute_result"
    }
   ],
   "source": [
    "vid_df.dtypes"
   ]
  },
  {
   "cell_type": "code",
   "execution_count": 22,
   "id": "75f43077-daf2-4769-9178-3f615d552215",
   "metadata": {},
   "outputs": [
    {
     "data": {
      "text/plain": [
       "['viewCount', 'likeCount', 'favouriteCount', 'commentCount']"
      ]
     },
     "execution_count": 22,
     "metadata": {},
     "output_type": "execute_result"
    }
   ],
   "source": [
    "# convert numerical columns to numerical type\n",
    "numerical_cols = [col for col in vid_df.columns if col.endswith('Count')]\n",
    "numerical_cols"
   ]
  },
  {
   "cell_type": "code",
   "execution_count": 23,
   "id": "a7755d3f-7fbb-4a59-aa87-39826a4a80e4",
   "metadata": {},
   "outputs": [],
   "source": [
    "vid_df[numerical_cols] = vid_df[numerical_cols].apply(pd.to_numeric, errors='coerce', axis=1)"
   ]
  },
  {
   "cell_type": "code",
   "execution_count": 24,
   "id": "08729ae3-5957-4bcd-91c3-8ef879d67049",
   "metadata": {},
   "outputs": [
    {
     "data": {
      "text/plain": [
       "vid_id             object\n",
       "channelTitle       object\n",
       "title              object\n",
       "description        object\n",
       "tags               object\n",
       "publishedAt        object\n",
       "viewCount         float64\n",
       "likeCount         float64\n",
       "favouriteCount    float64\n",
       "commentCount      float64\n",
       "duration           object\n",
       "definition         object\n",
       "caption            object\n",
       "dtype: object"
      ]
     },
     "execution_count": 24,
     "metadata": {},
     "output_type": "execute_result"
    }
   ],
   "source": [
    "vid_df.dtypes"
   ]
  },
  {
   "cell_type": "code",
   "execution_count": 25,
   "id": "e0f47c7b-7bf1-4ebc-88b8-acc6bb8f9800",
   "metadata": {},
   "outputs": [],
   "source": [
    "# published day in week\n",
    "#vid_df['publishedAt'] = vid_df['publishedAt'].apply(lambda x: parser.parse(x))\n",
    "vid_df['publishedAt_week'] = vid_df['publishedAt'].apply(lambda x: datetime.strptime(x, \"%Y-%m-%dT%H:%M:%SZ\").strftime(\"%A\"))"
   ]
  },
  {
   "cell_type": "code",
   "execution_count": 26,
   "id": "c5aa3f9e-8ae1-45f8-9948-2e8222862189",
   "metadata": {},
   "outputs": [
    {
     "data": {
      "text/plain": [
       "0      Thursday\n",
       "1      Thursday\n",
       "2        Monday\n",
       "3      Thursday\n",
       "4        Sunday\n",
       "         ...   \n",
       "172      Friday\n",
       "173     Tuesday\n",
       "174      Sunday\n",
       "175      Sunday\n",
       "176      Sunday\n",
       "Name: publishedAt_week, Length: 177, dtype: object"
      ]
     },
     "execution_count": 26,
     "metadata": {},
     "output_type": "execute_result"
    }
   ],
   "source": [
    "vid_df['publishedAt_week']"
   ]
  },
  {
   "cell_type": "code",
   "execution_count": 27,
   "id": "cee036ae-f1cb-4986-b02a-207bc5ec6990",
   "metadata": {},
   "outputs": [
    {
     "data": {
      "text/html": [
       "<div>\n",
       "<style scoped>\n",
       "    .dataframe tbody tr th:only-of-type {\n",
       "        vertical-align: middle;\n",
       "    }\n",
       "\n",
       "    .dataframe tbody tr th {\n",
       "        vertical-align: top;\n",
       "    }\n",
       "\n",
       "    .dataframe thead th {\n",
       "        text-align: right;\n",
       "    }\n",
       "</style>\n",
       "<table border=\"1\" class=\"dataframe\">\n",
       "  <thead>\n",
       "    <tr style=\"text-align: right;\">\n",
       "      <th></th>\n",
       "      <th>vid_id</th>\n",
       "      <th>channelTitle</th>\n",
       "      <th>title</th>\n",
       "      <th>description</th>\n",
       "      <th>tags</th>\n",
       "      <th>publishedAt</th>\n",
       "      <th>viewCount</th>\n",
       "      <th>likeCount</th>\n",
       "      <th>favouriteCount</th>\n",
       "      <th>commentCount</th>\n",
       "      <th>duration</th>\n",
       "      <th>definition</th>\n",
       "      <th>caption</th>\n",
       "      <th>publishedAt_week</th>\n",
       "    </tr>\n",
       "  </thead>\n",
       "  <tbody>\n",
       "    <tr>\n",
       "      <th>0</th>\n",
       "      <td>O7CX81quvzE</td>\n",
       "      <td>Python Engineer</td>\n",
       "      <td>Don't make this mistake with Strings in Python!</td>\n",
       "      <td>Don't forget that Strings are immutable and ma...</td>\n",
       "      <td>[Python]</td>\n",
       "      <td>2022-07-07T14:00:09Z</td>\n",
       "      <td>18394.0</td>\n",
       "      <td>1297.0</td>\n",
       "      <td>NaN</td>\n",
       "      <td>24.0</td>\n",
       "      <td>PT30S</td>\n",
       "      <td>hd</td>\n",
       "      <td>false</td>\n",
       "      <td>Thursday</td>\n",
       "    </tr>\n",
       "    <tr>\n",
       "      <th>1</th>\n",
       "      <td>IDgDWDpwvIc</td>\n",
       "      <td>Python Engineer</td>\n",
       "      <td>Quick First Look at Python 3.11 Features (10-6...</td>\n",
       "      <td>Learn about the new features in Python 3.11!\\n...</td>\n",
       "      <td>[Python]</td>\n",
       "      <td>2022-06-30T14:50:36Z</td>\n",
       "      <td>54951.0</td>\n",
       "      <td>2180.0</td>\n",
       "      <td>NaN</td>\n",
       "      <td>90.0</td>\n",
       "      <td>PT4M39S</td>\n",
       "      <td>hd</td>\n",
       "      <td>false</td>\n",
       "      <td>Thursday</td>\n",
       "    </tr>\n",
       "    <tr>\n",
       "      <th>2</th>\n",
       "      <td>EgaZo1uiaHs</td>\n",
       "      <td>Python Engineer</td>\n",
       "      <td>Use any() and all() to refactor your Python co...</td>\n",
       "      <td>Use any() and all() to refactor your Python co...</td>\n",
       "      <td>[Python]</td>\n",
       "      <td>2022-06-27T13:36:27Z</td>\n",
       "      <td>31733.0</td>\n",
       "      <td>2685.0</td>\n",
       "      <td>NaN</td>\n",
       "      <td>52.0</td>\n",
       "      <td>PT58S</td>\n",
       "      <td>hd</td>\n",
       "      <td>false</td>\n",
       "      <td>Monday</td>\n",
       "    </tr>\n",
       "    <tr>\n",
       "      <th>3</th>\n",
       "      <td>UFdEp9wrtOY</td>\n",
       "      <td>Python Engineer</td>\n",
       "      <td>Avoid endless if-else statements with this Pyt...</td>\n",
       "      <td>Avoid endless if-else statements with this Pyt...</td>\n",
       "      <td>[Python]</td>\n",
       "      <td>2022-06-09T14:08:08Z</td>\n",
       "      <td>148365.0</td>\n",
       "      <td>10284.0</td>\n",
       "      <td>NaN</td>\n",
       "      <td>336.0</td>\n",
       "      <td>PT55S</td>\n",
       "      <td>hd</td>\n",
       "      <td>false</td>\n",
       "      <td>Thursday</td>\n",
       "    </tr>\n",
       "    <tr>\n",
       "      <th>4</th>\n",
       "      <td>NOvFZamGXXo</td>\n",
       "      <td>Python Engineer</td>\n",
       "      <td>File Organizing with Python: Rename, Move, Cop...</td>\n",
       "      <td>Automate File Organization in Python: Learn ho...</td>\n",
       "      <td>[Python]</td>\n",
       "      <td>2022-06-05T11:00:10Z</td>\n",
       "      <td>9575.0</td>\n",
       "      <td>547.0</td>\n",
       "      <td>NaN</td>\n",
       "      <td>25.0</td>\n",
       "      <td>PT12M3S</td>\n",
       "      <td>hd</td>\n",
       "      <td>false</td>\n",
       "      <td>Sunday</td>\n",
       "    </tr>\n",
       "  </tbody>\n",
       "</table>\n",
       "</div>"
      ],
      "text/plain": [
       "        vid_id     channelTitle  \\\n",
       "0  O7CX81quvzE  Python Engineer   \n",
       "1  IDgDWDpwvIc  Python Engineer   \n",
       "2  EgaZo1uiaHs  Python Engineer   \n",
       "3  UFdEp9wrtOY  Python Engineer   \n",
       "4  NOvFZamGXXo  Python Engineer   \n",
       "\n",
       "                                               title  \\\n",
       "0    Don't make this mistake with Strings in Python!   \n",
       "1  Quick First Look at Python 3.11 Features (10-6...   \n",
       "2  Use any() and all() to refactor your Python co...   \n",
       "3  Avoid endless if-else statements with this Pyt...   \n",
       "4  File Organizing with Python: Rename, Move, Cop...   \n",
       "\n",
       "                                         description      tags  \\\n",
       "0  Don't forget that Strings are immutable and ma...  [Python]   \n",
       "1  Learn about the new features in Python 3.11!\\n...  [Python]   \n",
       "2  Use any() and all() to refactor your Python co...  [Python]   \n",
       "3  Avoid endless if-else statements with this Pyt...  [Python]   \n",
       "4  Automate File Organization in Python: Learn ho...  [Python]   \n",
       "\n",
       "            publishedAt  viewCount  likeCount  favouriteCount  commentCount  \\\n",
       "0  2022-07-07T14:00:09Z    18394.0     1297.0             NaN          24.0   \n",
       "1  2022-06-30T14:50:36Z    54951.0     2180.0             NaN          90.0   \n",
       "2  2022-06-27T13:36:27Z    31733.0     2685.0             NaN          52.0   \n",
       "3  2022-06-09T14:08:08Z   148365.0    10284.0             NaN         336.0   \n",
       "4  2022-06-05T11:00:10Z     9575.0      547.0             NaN          25.0   \n",
       "\n",
       "  duration definition caption publishedAt_week  \n",
       "0    PT30S         hd   false         Thursday  \n",
       "1  PT4M39S         hd   false         Thursday  \n",
       "2    PT58S         hd   false           Monday  \n",
       "3    PT55S         hd   false         Thursday  \n",
       "4  PT12M3S         hd   false           Sunday  "
      ]
     },
     "execution_count": 27,
     "metadata": {},
     "output_type": "execute_result"
    }
   ],
   "source": [
    "vid_df.head()"
   ]
  },
  {
   "cell_type": "code",
   "execution_count": 29,
   "id": "94350faa-ada8-4d0e-bbcc-aac831ad0e4a",
   "metadata": {},
   "outputs": [
    {
     "data": {
      "text/html": [
       "<div>\n",
       "<style scoped>\n",
       "    .dataframe tbody tr th:only-of-type {\n",
       "        vertical-align: middle;\n",
       "    }\n",
       "\n",
       "    .dataframe tbody tr th {\n",
       "        vertical-align: top;\n",
       "    }\n",
       "\n",
       "    .dataframe thead th {\n",
       "        text-align: right;\n",
       "    }\n",
       "</style>\n",
       "<table border=\"1\" class=\"dataframe\">\n",
       "  <thead>\n",
       "    <tr style=\"text-align: right;\">\n",
       "      <th></th>\n",
       "      <th>duration</th>\n",
       "      <th>durationSeconds</th>\n",
       "    </tr>\n",
       "  </thead>\n",
       "  <tbody>\n",
       "    <tr>\n",
       "      <th>0</th>\n",
       "      <td>PT30S</td>\n",
       "      <td>30</td>\n",
       "    </tr>\n",
       "    <tr>\n",
       "      <th>1</th>\n",
       "      <td>PT4M39S</td>\n",
       "      <td>279</td>\n",
       "    </tr>\n",
       "    <tr>\n",
       "      <th>2</th>\n",
       "      <td>PT58S</td>\n",
       "      <td>58</td>\n",
       "    </tr>\n",
       "    <tr>\n",
       "      <th>3</th>\n",
       "      <td>PT55S</td>\n",
       "      <td>55</td>\n",
       "    </tr>\n",
       "    <tr>\n",
       "      <th>4</th>\n",
       "      <td>PT12M3S</td>\n",
       "      <td>723</td>\n",
       "    </tr>\n",
       "    <tr>\n",
       "      <th>...</th>\n",
       "      <td>...</td>\n",
       "      <td>...</td>\n",
       "    </tr>\n",
       "    <tr>\n",
       "      <th>172</th>\n",
       "      <td>PT24M16S</td>\n",
       "      <td>1456</td>\n",
       "    </tr>\n",
       "    <tr>\n",
       "      <th>173</th>\n",
       "      <td>PT16M19S</td>\n",
       "      <td>979</td>\n",
       "    </tr>\n",
       "    <tr>\n",
       "      <th>174</th>\n",
       "      <td>PT13M5S</td>\n",
       "      <td>785</td>\n",
       "    </tr>\n",
       "    <tr>\n",
       "      <th>175</th>\n",
       "      <td>PT13M31S</td>\n",
       "      <td>811</td>\n",
       "    </tr>\n",
       "    <tr>\n",
       "      <th>176</th>\n",
       "      <td>PT15M51S</td>\n",
       "      <td>951</td>\n",
       "    </tr>\n",
       "  </tbody>\n",
       "</table>\n",
       "<p>177 rows × 2 columns</p>\n",
       "</div>"
      ],
      "text/plain": [
       "     duration  durationSeconds\n",
       "0       PT30S               30\n",
       "1     PT4M39S              279\n",
       "2       PT58S               58\n",
       "3       PT55S               55\n",
       "4     PT12M3S              723\n",
       "..        ...              ...\n",
       "172  PT24M16S             1456\n",
       "173  PT16M19S              979\n",
       "174   PT13M5S              785\n",
       "175  PT13M31S              811\n",
       "176  PT15M51S              951\n",
       "\n",
       "[177 rows x 2 columns]"
      ]
     },
     "execution_count": 29,
     "metadata": {},
     "output_type": "execute_result"
    }
   ],
   "source": [
    "vid_df['durationSeconds'] = vid_df['duration'].apply(YTDurationToSeconds)\n",
    "vid_df[['duration','durationSeconds']]"
   ]
  },
  {
   "cell_type": "code",
   "execution_count": 30,
   "id": "9d099255-2eb1-4379-b0f5-83afd0cab295",
   "metadata": {},
   "outputs": [
    {
     "data": {
      "text/html": [
       "<div>\n",
       "<style scoped>\n",
       "    .dataframe tbody tr th:only-of-type {\n",
       "        vertical-align: middle;\n",
       "    }\n",
       "\n",
       "    .dataframe tbody tr th {\n",
       "        vertical-align: top;\n",
       "    }\n",
       "\n",
       "    .dataframe thead th {\n",
       "        text-align: right;\n",
       "    }\n",
       "</style>\n",
       "<table border=\"1\" class=\"dataframe\">\n",
       "  <thead>\n",
       "    <tr style=\"text-align: right;\">\n",
       "      <th></th>\n",
       "      <th>tags</th>\n",
       "      <th>tagCount</th>\n",
       "    </tr>\n",
       "  </thead>\n",
       "  <tbody>\n",
       "    <tr>\n",
       "      <th>0</th>\n",
       "      <td>[Python]</td>\n",
       "      <td>1</td>\n",
       "    </tr>\n",
       "    <tr>\n",
       "      <th>1</th>\n",
       "      <td>[Python]</td>\n",
       "      <td>1</td>\n",
       "    </tr>\n",
       "    <tr>\n",
       "      <th>2</th>\n",
       "      <td>[Python]</td>\n",
       "      <td>1</td>\n",
       "    </tr>\n",
       "    <tr>\n",
       "      <th>3</th>\n",
       "      <td>[Python]</td>\n",
       "      <td>1</td>\n",
       "    </tr>\n",
       "    <tr>\n",
       "      <th>4</th>\n",
       "      <td>[Python]</td>\n",
       "      <td>1</td>\n",
       "    </tr>\n",
       "    <tr>\n",
       "      <th>...</th>\n",
       "      <td>...</td>\n",
       "      <td>...</td>\n",
       "    </tr>\n",
       "    <tr>\n",
       "      <th>172</th>\n",
       "      <td>[Python, Programming, Coding, Strings]</td>\n",
       "      <td>4</td>\n",
       "    </tr>\n",
       "    <tr>\n",
       "      <th>173</th>\n",
       "      <td>[Python, Tutorial, Programming]</td>\n",
       "      <td>3</td>\n",
       "    </tr>\n",
       "    <tr>\n",
       "      <th>174</th>\n",
       "      <td>[Python, Tutorial, Programming]</td>\n",
       "      <td>3</td>\n",
       "    </tr>\n",
       "    <tr>\n",
       "      <th>175</th>\n",
       "      <td>[Python, Tutorial, Programming]</td>\n",
       "      <td>3</td>\n",
       "    </tr>\n",
       "    <tr>\n",
       "      <th>176</th>\n",
       "      <td>[Python, Tutorial, Programming]</td>\n",
       "      <td>3</td>\n",
       "    </tr>\n",
       "  </tbody>\n",
       "</table>\n",
       "<p>177 rows × 2 columns</p>\n",
       "</div>"
      ],
      "text/plain": [
       "                                       tags  tagCount\n",
       "0                                  [Python]         1\n",
       "1                                  [Python]         1\n",
       "2                                  [Python]         1\n",
       "3                                  [Python]         1\n",
       "4                                  [Python]         1\n",
       "..                                      ...       ...\n",
       "172  [Python, Programming, Coding, Strings]         4\n",
       "173         [Python, Tutorial, Programming]         3\n",
       "174         [Python, Tutorial, Programming]         3\n",
       "175         [Python, Tutorial, Programming]         3\n",
       "176         [Python, Tutorial, Programming]         3\n",
       "\n",
       "[177 rows x 2 columns]"
      ]
     },
     "execution_count": 30,
     "metadata": {},
     "output_type": "execute_result"
    }
   ],
   "source": [
    "# count the number of tags\n",
    "vid_df['tagCount'] = vid_df['tags'].apply(lambda x: 0 if x is None else len(x))\n",
    "vid_df[['tags','tagCount']]"
   ]
  },
  {
   "cell_type": "code",
   "execution_count": 32,
   "id": "a402b2c0-45c9-4a7f-a0ef-dee27a5f59c0",
   "metadata": {},
   "outputs": [],
   "source": [
    "# Extract and count all the unique tags\n",
    "tag_count = {}\n",
    "for i in range(len(vid_df)):\n",
    "    \n",
    "    tag_lst = vid_df.loc[i,'tags']\n",
    "    if tag_lst:\n",
    "        for tag in tag_lst:\n",
    "            if tag.lower() not in tag_count:\n",
    "                tag_count[tag.lower()] = 1\n",
    "            else:\n",
    "                tag_count[tag.lower()] += 1\n",
    "\n",
    "tag_count = {k: v for k, v in sorted(tag_count.items(), key=lambda item: item[1], reverse=True)}"
   ]
  },
  {
   "cell_type": "code",
   "execution_count": 45,
   "id": "24c9e09e-846f-4e8f-a723-50caa0d47384",
   "metadata": {},
   "outputs": [
    {
     "data": {
      "text/plain": [
       "[Text(0, 0, 'python'),\n",
       " Text(1, 0, 'machine learning'),\n",
       " Text(2, 0, 'deep learning'),\n",
       " Text(3, 0, 'ml'),\n",
       " Text(4, 0, 'pytorch'),\n",
       " Text(5, 0, 'dl'),\n",
       " Text(6, 0, 'tutorial'),\n",
       " Text(7, 0, 'python dl tutorial'),\n",
       " Text(8, 0, 'neural net'),\n",
       " Text(9, 0, 'programming')]"
      ]
     },
     "execution_count": 45,
     "metadata": {},
     "output_type": "execute_result"
    },
    {
     "data": {
      "image/png": "[encoded data removed]",
      "text/plain": [
       "<Figure size 432x288 with 1 Axes>"
      ]
     },
     "metadata": {
      "needs_background": "light"
     },
     "output_type": "display_data"
    }
   ],
   "source": [
    "#tag_count\n",
    "ax = sns.barplot(x=list(tag_count.keys())[:10], y=list(tag_count.values())[:10])\n",
    "ax.set_xticklabels(ax.get_xticklabels(), rotation=90)"
   ]
  },
  {
   "cell_type": "markdown",
   "id": "3071e72d-c934-40fa-a8ee-a7fd883f5add",
   "metadata": {},
   "source": [
    "## EDA"
   ]
  },
  {
   "cell_type": "markdown",
   "id": "767d6740-a635-47a7-9403-fde42e727fce",
   "metadata": {},
   "source": [
    "### Best performing videos"
   ]
  },
  {
   "cell_type": "code",
   "execution_count": 34,
   "id": "820d43ed-a7f9-4920-8839-40b6d570a740",
   "metadata": {},
   "outputs": [
    {
     "data": {
      "text/plain": [
       "Text(0, 0.5, 'View Counts')"
      ]
     },
     "execution_count": 34,
     "metadata": {},
     "output_type": "execute_result"
    },
    {
     "name": "stderr",
     "output_type": "stream",
     "text": [
      "D:\\Anaconda3\\lib\\site-packages\\matplotlib\\backends\\backend_agg.py:240: RuntimeWarning: Glyph 129300 missing from current font.\n",
      "  font.set_text(s, 0.0, flags=flags)\n",
      "D:\\Anaconda3\\lib\\site-packages\\matplotlib\\backends\\backend_agg.py:240: RuntimeWarning: Glyph 10060 missing from current font.\n",
      "  font.set_text(s, 0.0, flags=flags)\n",
      "D:\\Anaconda3\\lib\\site-packages\\matplotlib\\backends\\backend_agg.py:203: RuntimeWarning: Glyph 129300 missing from current font.\n",
      "  font.set_text(s, 0, flags=flags)\n",
      "D:\\Anaconda3\\lib\\site-packages\\matplotlib\\backends\\backend_agg.py:203: RuntimeWarning: Glyph 10060 missing from current font.\n",
      "  font.set_text(s, 0, flags=flags)\n"
     ]
    },
    {
     "data": {
      "image/png": "[encoded data removed]",
      "text/plain": [
       "<Figure size 432x288 with 1 Axes>"
      ]
     },
     "metadata": {
      "needs_background": "light"
     },
     "output_type": "display_data"
    }
   ],
   "source": [
    "ax = sns.barplot(x='title', y='viewCount', data=vid_df.sort_values('viewCount', ascending=False)[:10])\n",
    "ax.set_xlabel(\"Video Titles\")\n",
    "ax.set_xticklabels(ax.get_xticklabels(), rotation=90)\n",
    "ax.set_ylabel(\"View Counts\")"
   ]
  },
  {
   "cell_type": "markdown",
   "id": "84914a1d-a85e-4aeb-9dfe-908d9bdcc199",
   "metadata": {},
   "source": [
    "### Worst performing video"
   ]
  },
  {
   "cell_type": "code",
   "execution_count": 35,
   "id": "5adeb0ee-25d8-485f-8eda-127d29c0124a",
   "metadata": {},
   "outputs": [
    {
     "data": {
      "text/plain": [
       "Text(0, 0.5, 'View Counts')"
      ]
     },
     "execution_count": 35,
     "metadata": {},
     "output_type": "execute_result"
    },
    {
     "data": {
      "image/png": "[encoded data removed]",
      "text/plain": [
       "<Figure size 432x288 with 1 Axes>"
      ]
     },
     "metadata": {
      "needs_background": "light"
     },
     "output_type": "display_data"
    }
   ],
   "source": [
    "ax = sns.barplot(x='title', y='viewCount', data=vid_df.sort_values('viewCount', ascending=True)[:10])\n",
    "ax.set_xlabel(\"Video Titles\")\n",
    "ax.set_xticklabels(ax.get_xticklabels(), rotation=90)\n",
    "ax.set_ylabel(\"View Counts\")"
   ]
  },
  {
   "cell_type": "markdown",
   "id": "bf5cd4ee-e5f2-48b0-9628-68d9c49d855a",
   "metadata": {},
   "source": [
    "### View distribution per video"
   ]
  },
  {
   "cell_type": "code",
   "execution_count": 37,
   "id": "f4e03535-ac59-48ec-ad43-4083a827fc0e",
   "metadata": {},
   "outputs": [
    {
     "data": {
      "text/plain": [
       "<AxesSubplot:xlabel='channelTitle', ylabel='viewCount'>"
      ]
     },
     "execution_count": 37,
     "metadata": {},
     "output_type": "execute_result"
    },
    {
     "data": {
      "image/png": "[encoded data removed]",
      "text/plain": [
       "<Figure size 432x288 with 1 Axes>"
      ]
     },
     "metadata": {
      "needs_background": "light"
     },
     "output_type": "display_data"
    }
   ],
   "source": [
    "sns.violinplot(x='channelTitle', y='viewCount', data=vid_df)"
   ]
  },
  {
   "cell_type": "markdown",
   "id": "428fe6b0-171d-4a3b-9dce-d5ac85c5523d",
   "metadata": {},
   "source": [
    "### Views vs. Likes, Comments and No. of tags"
   ]
  },
  {
   "cell_type": "code",
   "execution_count": 46,
   "id": "16c109bc-1155-4674-abbf-f4f5b0f5e59c",
   "metadata": {},
   "outputs": [
    {
     "data": {
      "text/plain": [
       "<AxesSubplot:xlabel='tagCount', ylabel='viewCount'>"
      ]
     },
     "execution_count": 46,
     "metadata": {},
     "output_type": "execute_result"
    },
    {
     "data": {
      "image/png": "[encoded data removed]",
      "text/plain": [
       "<Figure size 432x288 with 3 Axes>"
      ]
     },
     "metadata": {
      "needs_background": "light"
     },
     "output_type": "display_data"
    }
   ],
   "source": [
    "fig, ax = plt.subplots(1,3)\n",
    "sns.scatterplot(data=vid_df, x='commentCount', y='viewCount', ax=ax[0])\n",
    "sns.scatterplot(data=vid_df, x='likeCount', y='viewCount', ax=ax[1])\n",
    "sns.scatterplot(data=vid_df, x='tagCount', y='viewCount', ax=ax[2])"
   ]
  },
  {
   "cell_type": "markdown",
   "id": "0181e59e-fd5d-49e1-8406-c7ea628419d1",
   "metadata": {},
   "source": [
    "### Views vs. tag count"
   ]
  },
  {
   "cell_type": "code",
   "execution_count": null,
   "id": "dd3e7c0e-eb42-462f-8d92-2b1940a26d6a",
   "metadata": {},
   "outputs": [],
   "source": [
    "tags = vid_df.loc[:,['tags','viewCount']]\n",
    "tags['count_tags'] = tags['tags'].apply(lambda x: len(x) if x else 0)\n",
    "tags.head()"
   ]
  },
  {
   "cell_type": "markdown",
   "id": "c234a3ef-0155-4d07-ba04-814ff3ea46be",
   "metadata": {},
   "source": [
    "### Video duration"
   ]
  },
  {
   "cell_type": "code",
   "execution_count": 40,
   "id": "a165a3fa-3e20-449d-b3e3-20d7d55aed81",
   "metadata": {},
   "outputs": [
    {
     "data": {
      "text/plain": [
       "<AxesSubplot:xlabel='durationSeconds', ylabel='Count'>"
      ]
     },
     "execution_count": 40,
     "metadata": {},
     "output_type": "execute_result"
    },
    {
     "data": {
      "image/png": "[encoded data removed]",
      "text/plain": [
       "<Figure size 432x288 with 1 Axes>"
      ]
     },
     "metadata": {
      "needs_background": "light"
     },
     "output_type": "display_data"
    }
   ],
   "source": [
    "sns.histplot(data=vid_df, x='durationSeconds')"
   ]
  },
  {
   "cell_type": "code",
   "execution_count": 42,
   "id": "ddabc91b-48ce-4985-b349-cb436174cfb8",
   "metadata": {},
   "outputs": [
    {
     "data": {
      "text/plain": [
       "Index(['vid_id', 'channelTitle', 'title', 'description', 'tags', 'publishedAt',\n",
       "       'viewCount', 'likeCount', 'favouriteCount', 'commentCount', 'duration',\n",
       "       'definition', 'caption', 'publishedAt_week', 'durationSeconds',\n",
       "       'tagCount'],\n",
       "      dtype='object')"
      ]
     },
     "execution_count": 42,
     "metadata": {},
     "output_type": "execute_result"
    }
   ],
   "source": [
    "vid_df.columns"
   ]
  },
  {
   "cell_type": "markdown",
   "id": "a8c4bdde-675f-4589-8c36-d469afa5400a",
   "metadata": {},
   "source": [
    "### Upload schedule"
   ]
  },
  {
   "cell_type": "code",
   "execution_count": 43,
   "id": "e558445b-01a4-447f-a3a4-a3e72d579f44",
   "metadata": {},
   "outputs": [
    {
     "data": {
      "image/png": "[encoded data removed]",
      "text/plain": [
       "<Figure size 432x288 with 1 Axes>"
      ]
     },
     "metadata": {
      "needs_background": "light"
     },
     "output_type": "display_data"
    }
   ],
   "source": [
    "day_df = pd.DataFrame(vid_df['publishedAt_week'].value_counts())\n",
    "weekdays = ['Sunday','Monday','Tuesday','Wednesday','Thursday','Friday','Saturday']\n",
    "day_df = day_df.reindex(weekdays)\n",
    "ax = day_df.reset_index().plot.bar(x='index', y='publishedAt_week')"
   ]
  },
  {
   "cell_type": "code",
   "execution_count": null,
   "id": "13cc3588-efdd-472f-890d-1a67a3173ea2",
   "metadata": {},
   "outputs": [],
   "source": []
  }
 ],
 "metadata": {
  "kernelspec": {
   "display_name": "my_env",
   "language": "python",
   "name": "python3"
  },
  "language_info": {
   "codemirror_mode": {
    "name": "ipython",
    "version": 3
   },
   "file_extension": ".py",
   "mimetype": "text/x-python",
   "name": "python",
   "nbconvert_exporter": "python",
   "pygments_lexer": "ipython3",
   "version": "3.7.13 (default, Mar 28 2022, 08:03:21) [MSC v.1916 64 bit (AMD64)]"
  },
  "vscode": {
   "interpreter": {
    "hash": "c15058ed3c193a23548f6fbfdfd808611a24c1f63bc3c33958cb0b1e8e2cf380"
   }
  }
 },
 "nbformat": 4,
 "nbformat_minor": 5
}
